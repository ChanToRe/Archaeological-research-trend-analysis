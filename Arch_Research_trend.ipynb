{
 "cells": [
  {
   "cell_type": "markdown",
   "id": "5c0f88c6",
   "metadata": {},
   "source": [
    "## 고고학 연구동향 연구(가제)\n",
    "* [DBpia-Crawler](https://github.com/ChanToRe/DBpia-Crawler)를 통해 수집된 고고학 논문을 분석하여 2000년 이후 고고학 연구 동향을 살핌\n",
    "* 워드클라우드 시각화 기법과 토픽 모델링 기법을 활용하여 연구동향을 분석"
   ]
  },
  {
   "cell_type": "code",
   "execution_count": 4,
   "id": "2e57de3c-b976-4631-a37b-aa0c34ff9c6a",
   "metadata": {},
   "outputs": [],
   "source": [
    "import pandas as pd\n",
    "import hanja\n",
    "from tqdm import tqdm\n",
    "import matplotlib.pyplot as plt\n",
    "from konlpy.tag import Okt\n",
    "import wordcloud\n",
    "import numpy as np\n",
    "from collections import Counter\n",
    "import csv"
   ]
  },
  {
   "cell_type": "code",
   "execution_count": 5,
   "id": "8051ab80-831f-4557-8b2c-d3c06c8778b3",
   "metadata": {},
   "outputs": [],
   "source": [
    "#데이터 로드 & 한글 깨짐 방지\n",
    "plt.rcParams['font.family'] = 'AppleGothic'\n",
    "data = pd.read_csv('./Data-before.csv')\n",
    "df = pd.DataFrame(data)"
   ]
  },
  {
   "cell_type": "code",
   "execution_count": 6,
   "id": "6aa76804-9cc1-495c-b43b-d866435587c4",
   "metadata": {},
   "outputs": [
    {
     "name": "stderr",
     "output_type": "stream",
     "text": [
      "100%|██████████| 2705/2705 [00:00<00:00, 2805.16it/s]\n"
     ]
    }
   ],
   "source": [
    "#제목 한자 번역\n",
    "before_title = df[['title']] #제목 추출\n",
    "list_before_title = before_title.values.tolist() #제목 리스트화\n",
    "after_title = [] #번역 후 제목 리스트\n",
    "\n",
    "\n",
    "for i in tqdm(range(len(list_before_title))):\n",
    "    trans = hanja.translate(list_before_title[i], \"substitution\")\n",
    "    after_title.append(trans)"
   ]
  },
  {
   "cell_type": "code",
   "execution_count": 7,
   "id": "63a25741",
   "metadata": {},
   "outputs": [],
   "source": [
    "trans_result = df.assign(translate_title = after_title)\n",
    "DB = pd.DataFrame(trans_result)\n",
    "sort_DB = DB.sort_values(by=['date'])\n",
    "#DB.to_excel(\"~/Desktop/result.xlsx\")"
   ]
  },
  {
   "cell_type": "code",
   "execution_count": 12,
   "id": "affb3f24",
   "metadata": {},
   "outputs": [
    {
     "data": {
      "image/png": "[encoded data removed]",
      "text/plain": [
       "<Figure size 1440x720 with 1 Axes>"
      ]
     },
     "metadata": {
      "needs_background": "light"
     },
     "output_type": "display_data"
    }
   ],
   "source": [
    "#고고학 논문 발간 수 그래프\n",
    "sort_DB[\"date\"].value_counts().sort_index().plot(kind='bar')\n",
    "plt.rcParams[\"figure.figsize\"] = (20,10)\n",
    "plt.title(\"고고학 논문 발간 수\", fontsize=20)\n",
    "plt.xlabel(\"연도\", fontsize=20)\n",
    "plt.ylabel(\"수량\", fontsize=20)\n",
    "plt.xticks(fontsize = 12)\n",
    "plt.yticks(fontsize = 12)\n",
    "plt.grid()\n",
    "plt.show()"
   ]
  },
  {
   "cell_type": "code",
   "execution_count": null,
   "id": "0ace43cd",
   "metadata": {},
   "outputs": [],
   "source": [
    "#불용어 처리"
   ]
  },
  {
   "cell_type": "code",
   "execution_count": 25,
   "id": "764b0b1a",
   "metadata": {},
   "outputs": [],
   "source": [
    "#분기별 구분\n",
    "date_trash = trans_result[trans_result['date'] < 2000] #2000년대 이전\n",
    "\n",
    "#2000년대 발간 논문\n",
    "date_zero = trans_result[(trans_result['date'] >= 2000) & (trans_result['date'] < 2010)]\n",
    "date_zero_title = pd.DataFrame(date_zero['translate_title'])\n",
    "date_zero_title.to_csv(\"./date_zero_title.csv\", sep = \"\\t\", index=False)\n",
    "zero = open(\"./date_zero_title.csv\", 'r', encoding=\"UTF-8\")\n",
    "data_zero = zero.read()\n",
    "zero.close()\n",
    "\n",
    "#2010년대 발간 논문\n",
    "date_ten = trans_result[(trans_result['date'] >= 2010) & (trans_result['date'] < 2020)] \n",
    "date_ten_title = pd.DataFrame(date_ten['translate_title'])\n",
    "date_ten_title.to_csv(\"./date_ten_title.csv\", sep = \"\\t\", index=False)\n",
    "ten = open(\"./date_ten_title.csv\", 'r', encoding=\"UTF-8\")\n",
    "data_ten = ten.read()\n",
    "ten.close()\n",
    "\n",
    "#2020년대 발간 논문\n",
    "date_twenty = trans_result[trans_result['date'] > 2019] \n",
    "date_twenty_title = pd.DataFrame(date_twenty['translate_title'])\n",
    "date_twenty_title.to_csv(\"./date_twenty_title.csv\", sep = \"\\t\", index=False)\n",
    "twenty = open(\"./date_twenty_title.csv\", 'r', encoding=\"UTF-8\")\n",
    "data_twenty = twenty.read()\n",
    "twenty.close()"
   ]
  },
  {
   "cell_type": "code",
   "execution_count": 26,
   "id": "afc6b749",
   "metadata": {},
   "outputs": [],
   "source": [
    "#Okt 생성\n",
    "okt = Okt()\n",
    "\n",
    "#2000년대 발간 논문 명사 빈도 카운트\n",
    "zero_noun = okt.nouns(data_zero)\n",
    "zero_count = Counter(zero_noun)"
   ]
  },
  {
   "cell_type": "code",
   "execution_count": 27,
   "id": "b20ef04e",
   "metadata": {},
   "outputs": [],
   "source": [
    "#2010년대 발간 논문 명사 빈도 카운트\n",
    "ten_noun = okt.nouns(data_ten)\n",
    "ten_count = Counter(ten_noun)"
   ]
  },
  {
   "cell_type": "code",
   "execution_count": 28,
   "id": "3cbf5fae",
   "metadata": {},
   "outputs": [],
   "source": [
    "#2020년대 발간 논문 명사 빈도 카운트\n",
    "twenty_noun = okt.nouns(data_twenty)\n",
    "twenty_count = Counter(twenty_noun)"
   ]
  },
  {
   "cell_type": "code",
   "execution_count": null,
   "metadata": {},
   "outputs": [],
   "source": []
  }
 ],
 "metadata": {
  "kernelspec": {
   "display_name": "Python 3 (ipykernel)",
   "language": "python",
   "name": "python3"
  },
  "language_info": {
   "codemirror_mode": {
    "name": "ipython",
    "version": 3
   },
   "file_extension": ".py",
   "mimetype": "text/x-python",
   "name": "python",
   "nbconvert_exporter": "python",
   "pygments_lexer": "ipython3",
   "version": "3.8.3"
  }
 },
 "nbformat": 4,
 "nbformat_minor": 5
}
